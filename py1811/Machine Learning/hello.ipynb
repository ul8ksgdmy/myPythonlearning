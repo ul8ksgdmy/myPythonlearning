{
 "cells": [
  {
   "cell_type": "code",
   "execution_count": 3,
   "metadata": {
    "collapsed": true
   },
   "outputs": [],
   "source": [
    "import datetime"
   ]
  },
  {
   "cell_type": "code",
   "execution_count": 2,
   "metadata": {},
   "outputs": [
    {
     "data": {
      "text/plain": [
       "<Figure size 640x480 with 1 Axes>"
      ]
     },
     "execution_count": 0,
     "metadata": {},
     "output_type": "execute_result"
    }
   ],
   "source": [
    "import matplotlib.pyplot as plt\n",
    "import matplotlib as mpl\n",
    "import numpy as np\n",
    "\n",
    "x = np.linspace(0, 20, 100)\n",
    "plt.plot(x, np.sin(x))\n",
    "plt.show()"
   ]
  },
  {
   "cell_type": "heading",
   "metadata": {},
   "level": 1,
   "source": [
    "달력 출력하기 "
   ]
  },
  {
   "cell_type": "code",
   "execution_count": 4,
   "metadata": {},
   "outputs": [
    {
     "name": "stdout",
     "output_type": "stream",
     "text": [
      "2018 11 3 목\n  일  월  화  수  목  금  토\n                  1   2   3\n  4   5   6   7   8   9  10\n 11  12  13  14  15  16  17\n 18  19  20  21  22  23  24\n 25  26  27  28  29  30 "
     ]
    }
   ],
   "source": [
    "dayWeek = ['월','화','수','목','금','토','일'] #주\n",
    "wday = ['일','월','화','수','목','금','토'] #제목용\n",
    "months = [0, 31,28,31,30,31,30,31,31,30,31,30,31] #월\n",
    "isleap = False #윤년여부\n",
    "\n",
    "year = 2018\n",
    "month = 11\n",
    "\n",
    "day = (((year - 1)*365 + (year-1)//4 - (year-1)//100 + (year-1)//400)) % 7 #입력한 년도의 1월 1일의 요일 계산\n",
    "isleap = (year%4 == 0 and (year % 100 != 0 or year % 400 == 0)) #윤년여부 검사.\n",
    "\n",
    "if isleap == True:\n",
    "    month[2] = 29 #윤년이면 29일\n",
    "\n",
    "#해당 월 이전까지의 모든 일 수 계산\n",
    "for i in range(month):\n",
    "    day += months[i]\n",
    "\n",
    "day = day % 7\n",
    "print(year, month, day, dayWeek[day])\n",
    "\n",
    "\n",
    "for i in range(len(wday)):\n",
    "    print('%3s' % wday[i], end='') #요일 제목\n",
    "print()\n",
    "\n",
    "for i in range(day+1):\n",
    "    print('%3s' % (' '), end=' ') #첫째주 공백출력\n",
    "\n",
    "for i in range(day+1+1, months[month]+day+1+1): #날짜 출력\n",
    "    if i % 7 == 0:\n",
    "        print('%3d' % (i - day -1), end='\\n')\n",
    "    else :\n",
    "        print('%3d' % (i - day -1), end=' ')"
   ]
  },
  {
   "cell_type": "code",
   "execution_count": null,
   "metadata": {},
   "outputs": [],
   "source": []
  }
 ],
 "metadata": {
  "kernelspec": {
   "display_name": "Python 2",
   "language": "python",
   "name": "python2"
  },
  "language_info": {
   "codemirror_mode": {
    "name": "ipython",
    "version": 2
   },
   "file_extension": ".py",
   "mimetype": "text/x-python",
   "name": "python",
   "nbconvert_exporter": "python",
   "pygments_lexer": "ipython2",
   "version": "2.7.6"
  }
 },
 "nbformat": 4,
 "nbformat_minor": 0
}
