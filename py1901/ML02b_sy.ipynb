{
 "cells": [
  {
   "cell_type": "code",
   "execution_count": null,
   "metadata": {},
   "outputs": [],
   "source": [
    "# Big Mart Sales 데이터 셋을 이용한 회귀분석\n",
    "# 평균 판매량(weight, fat content, type, mrp )\n",
    "# 매장의 특징(year, size, location, type)\n",
    "\n",
    "# 상픔무게별 평균 판매량\n",
    "# 상품가격별 평균 판매량\n",
    "# 매장 크기별 평균 판매량\n",
    "# 지역별 평균 판매량\n"
   ]
  },
  {
   "cell_type": "code",
   "execution_count": 80,
   "metadata": {},
   "outputs": [],
   "source": [
    "import numpy as np\n",
    "import pandas as pd\n",
    "from mglearn import datasets \n",
    "from matplotlib import pyplot as plt\n",
    "import mglearn\n",
    "import matplotlib.pyplot as plt\n",
    "from sklearn.model_selection import train_test_split\n",
    "from sklearn.linear_model import LinearRegression"
   ]
  },
  {
   "cell_type": "code",
   "execution_count": 81,
   "metadata": {},
   "outputs": [
    {
     "name": "stdout",
     "output_type": "stream",
     "text": [
      "  Item_Identifier  Item_Weight Item_Fat_Content  Item_Visibility  \\\n",
      "0           FDA15         9.30          Low Fat         0.016047   \n",
      "1           DRC01         5.92          Regular         0.019278   \n",
      "2           FDN15        17.50          Low Fat         0.016760   \n",
      "3           FDX07        19.20          Regular         0.000000   \n",
      "4           NCD19         8.93          Low Fat         0.000000   \n",
      "\n",
      "               Item_Type  Item_MRP Outlet_Identifier  \\\n",
      "0                  Dairy  249.8092            OUT049   \n",
      "1            Soft Drinks   48.2692            OUT018   \n",
      "2                   Meat  141.6180            OUT049   \n",
      "3  Fruits and Vegetables  182.0950            OUT010   \n",
      "4              Household   53.8614            OUT013   \n",
      "\n",
      "   Outlet_Establishment_Year Outlet_Size Outlet_Location_Type  \\\n",
      "0                       1999      Medium               Tier 1   \n",
      "1                       2009      Medium               Tier 3   \n",
      "2                       1999      Medium               Tier 1   \n",
      "3                       1998         NaN               Tier 3   \n",
      "4                       1987        High               Tier 3   \n",
      "\n",
      "         Outlet_Type  Item_Outlet_Sales  \n",
      "0  Supermarket Type1          3735.1380  \n",
      "1  Supermarket Type2           443.4228  \n",
      "2  Supermarket Type1          2097.2700  \n",
      "3      Grocery Store           732.3800  \n",
      "4  Supermarket Type1           994.7052  \n"
     ]
    }
   ],
   "source": [
    "mart = pd.read_csv('c:/dataset/bigmartsales1.txt')\n",
    "print(mart.head())"
   ]
  },
  {
   "cell_type": "code",
   "execution_count": 26,
   "metadata": {},
   "outputs": [
    {
     "name": "stdout",
     "output_type": "stream",
     "text": [
      "0       False\n",
      "1       False\n",
      "2       False\n",
      "3       False\n",
      "4       False\n",
      "5       False\n",
      "6       False\n",
      "7        True\n",
      "8       False\n",
      "9       False\n",
      "10      False\n",
      "11      False\n",
      "12      False\n",
      "13      False\n",
      "14      False\n",
      "15      False\n",
      "16      False\n",
      "17      False\n",
      "18       True\n",
      "19      False\n",
      "20      False\n",
      "21       True\n",
      "22      False\n",
      "23       True\n",
      "24      False\n",
      "25      False\n",
      "26      False\n",
      "27      False\n",
      "28      False\n",
      "29       True\n",
      "        ...  \n",
      "8493    False\n",
      "8494    False\n",
      "8495    False\n",
      "8496    False\n",
      "8497    False\n",
      "8498    False\n",
      "8499    False\n",
      "8500    False\n",
      "8501    False\n",
      "8502    False\n",
      "8503    False\n",
      "8504     True\n",
      "8505    False\n",
      "8506    False\n",
      "8507    False\n",
      "8508    False\n",
      "8509    False\n",
      "8510    False\n",
      "8511    False\n",
      "8512    False\n",
      "8513    False\n",
      "8514    False\n",
      "8515    False\n",
      "8516    False\n",
      "8517    False\n",
      "8518    False\n",
      "8519    False\n",
      "8520    False\n",
      "8521    False\n",
      "8522    False\n",
      "Name: Item_Weight, Length: 8523, dtype: bool\n"
     ]
    }
   ],
   "source": [
    "print(mart['Item_Weight'].isnull())"
   ]
  },
  {
   "cell_type": "code",
   "execution_count": 23,
   "metadata": {},
   "outputs": [],
   "source": [
    "mart['Item_Weight2'] = mart['Item_Weight'].fillna(mart['Item_Weight'].mean())"
   ]
  },
  {
   "cell_type": "code",
   "execution_count": 27,
   "metadata": {},
   "outputs": [
    {
     "name": "stdout",
     "output_type": "stream",
     "text": [
      "0       False\n",
      "1       False\n",
      "2       False\n",
      "3       False\n",
      "4       False\n",
      "5       False\n",
      "6       False\n",
      "7       False\n",
      "8       False\n",
      "9       False\n",
      "10      False\n",
      "11      False\n",
      "12      False\n",
      "13      False\n",
      "14      False\n",
      "15      False\n",
      "16      False\n",
      "17      False\n",
      "18      False\n",
      "19      False\n",
      "20      False\n",
      "21      False\n",
      "22      False\n",
      "23      False\n",
      "24      False\n",
      "25      False\n",
      "26      False\n",
      "27      False\n",
      "28      False\n",
      "29      False\n",
      "        ...  \n",
      "8493    False\n",
      "8494    False\n",
      "8495    False\n",
      "8496    False\n",
      "8497    False\n",
      "8498    False\n",
      "8499    False\n",
      "8500    False\n",
      "8501    False\n",
      "8502    False\n",
      "8503    False\n",
      "8504    False\n",
      "8505    False\n",
      "8506    False\n",
      "8507    False\n",
      "8508    False\n",
      "8509    False\n",
      "8510    False\n",
      "8511    False\n",
      "8512    False\n",
      "8513    False\n",
      "8514    False\n",
      "8515    False\n",
      "8516    False\n",
      "8517    False\n",
      "8518    False\n",
      "8519    False\n",
      "8520    False\n",
      "8521    False\n",
      "8522    False\n",
      "Name: Item_Weight2, Length: 8523, dtype: bool\n"
     ]
    }
   ],
   "source": [
    "print(mart['Item_Weight2'].isnull())"
   ]
  },
  {
   "cell_type": "code",
   "execution_count": 72,
   "metadata": {},
   "outputs": [
    {
     "name": "stdout",
     "output_type": "stream",
     "text": [
      "  Item_Identifier  Item_Weight  Item_Fat_Content  Item_Visibility  Item_Type  \\\n",
      "0           FDA15        9.300                 1         0.016047          4   \n",
      "1           DRC01        5.920                 2         0.019278         14   \n",
      "2           FDN15       17.500                 1         0.016760         10   \n",
      "4           NCD19        8.930                 1         0.000000          9   \n",
      "5           FDP36       10.395                 2         0.000000          0   \n",
      "\n",
      "   Item_MRP Outlet_Identifier  Outlet_Establishment_Year Outlet_Size  \\\n",
      "0  249.8092            OUT049                       1999      Medium   \n",
      "1   48.2692            OUT018                       2009      Medium   \n",
      "2  141.6180            OUT049                       1999      Medium   \n",
      "4   53.8614            OUT013                       1987        High   \n",
      "5   51.4008            OUT018                       2009      Medium   \n",
      "\n",
      "  Outlet_Location_Type        Outlet_Type  Item_Outlet_Sales  Item_Weight2  \\\n",
      "0               Tier 1  Supermarket Type1          3735.1380         9.300   \n",
      "1               Tier 3  Supermarket Type2           443.4228         5.920   \n",
      "2               Tier 1  Supermarket Type1          2097.2700        17.500   \n",
      "4               Tier 3  Supermarket Type1           994.7052         8.930   \n",
      "5               Tier 3  Supermarket Type2           556.6088        10.395   \n",
      "\n",
      "   Outlet_Size2  \n",
      "0           2.0  \n",
      "1           2.0  \n",
      "2           2.0  \n",
      "4           3.0  \n",
      "5           2.0  \n"
     ]
    },
    {
     "data": {
      "image/png": "[encoded data removed]",
      "text/plain": [
       "<Figure size 432x288 with 1 Axes>"
      ]
     },
     "metadata": {},
     "output_type": "display_data"
    }
   ],
   "source": [
    "# 상픔무게별 평균 판매량\n",
    "# 산점도 그리기\n",
    "print(mart.head())\n",
    "plt.scatter(mart['Item_Weight2'],mart['Item_Outlet_Sales'])\n",
    "plt.show()"
   ]
  },
  {
   "cell_type": "code",
   "execution_count": 54,
   "metadata": {},
   "outputs": [
    {
     "name": "stdout",
     "output_type": "stream",
     "text": [
      "기울기 [4.66386534]\n",
      "절편 2121.322587859695\n",
      "훈련 측정값 R^2 [[ 9.3 ]\n",
      " [ 5.92]\n",
      " [17.5 ]\n",
      " ...\n",
      " [10.6 ]\n",
      " [ 7.21]\n",
      " [14.8 ]] 0       3735.1380\n",
      "1        443.4228\n",
      "2       2097.2700\n",
      "3        732.3800\n",
      "4        994.7052\n",
      "5        556.6088\n",
      "6        343.5528\n",
      "7       4022.7636\n",
      "8       1076.5986\n",
      "9       4710.5350\n",
      "10      1516.0266\n",
      "11      2187.1530\n",
      "12      1589.2646\n",
      "13      2145.2076\n",
      "14      1977.4260\n",
      "15      1547.3192\n",
      "16      1621.8888\n",
      "17       718.3982\n",
      "18      2303.6680\n",
      "19      2748.4224\n",
      "20      3775.0860\n",
      "21      4064.0432\n",
      "22      1587.2672\n",
      "23       214.3876\n",
      "24      4078.0250\n",
      "25       838.9080\n",
      "26      1065.2800\n",
      "27       308.9312\n",
      "28       178.4344\n",
      "29       125.8362\n",
      "          ...    \n",
      "8493    4727.1800\n",
      "8494    1637.8680\n",
      "8495    4314.3840\n",
      "8496    3715.1640\n",
      "8497    2247.0750\n",
      "8498    1601.2490\n",
      "8499    2976.1260\n",
      "8500    1907.5170\n",
      "8501    1508.0370\n",
      "8502    3020.0688\n",
      "8503    3392.9168\n",
      "8504    4138.6128\n",
      "8505    2117.2440\n",
      "8506    3944.8650\n",
      "8507     515.9950\n",
      "8508    2587.9646\n",
      "8509     424.7804\n",
      "8510    7182.6504\n",
      "8511    4207.8560\n",
      "8512    2479.4392\n",
      "8513     595.2252\n",
      "8514     468.7232\n",
      "8515    1571.2880\n",
      "8516     858.8820\n",
      "8517    3608.6360\n",
      "8518    2778.3834\n",
      "8519     549.2850\n",
      "8520    1193.1136\n",
      "8521    1845.5976\n",
      "8522     765.6700\n",
      "Name: Item_Outlet_Sales, Length: 8523, dtype: float64\n"
     ]
    }
   ],
   "source": [
    "lr = LinearRegression()\n",
    "X = mart.iloc[:,12][:,np.newaxis] \n",
    "     # 1 차원 데이터를 2차원 행렬로 변환 = >  a = [1,2,3,] => a[:,np.newaxis] => a = [[1],[2],[3]]\n",
    "y = mart.iloc[:,11]  # 배달시간 추출\n",
    "lr.fit(X, y) \n",
    "print('기울기', lr.coef_)  # 가중치 weight\n",
    "print('절편', lr.intercept_)  # 편향 bias\n",
    "print('훈련 측정값 R^2', X, y)"
   ]
  },
  {
   "cell_type": "code",
   "execution_count": 39,
   "metadata": {},
   "outputs": [
    {
     "data": {
      "image/png": "[encoded data removed]",
      "text/plain": [
       "<Figure size 432x288 with 1 Axes>"
      ]
     },
     "metadata": {},
     "output_type": "display_data"
    }
   ],
   "source": [
    "# 선형식 그래프 그리기\n",
    "#  y= ax + b\n",
    "plt.plot(X,y, 'o')\n",
    "plt.plot(X,X*lr.coef_ +lr.intercept_)\n",
    "plt.grid()\n",
    "plt.show()"
   ]
  },
  {
   "cell_type": "code",
   "execution_count": 34,
   "metadata": {},
   "outputs": [
    {
     "name": "stdout",
     "output_type": "stream",
     "text": [
      "  Item_Identifier  Item_Weight Item_Fat_Content  Item_Visibility  \\\n",
      "0           FDA15         9.30          Low Fat         0.016047   \n",
      "1           DRC01         5.92          Regular         0.019278   \n",
      "2           FDN15        17.50          Low Fat         0.016760   \n",
      "3           FDX07        19.20          Regular         0.000000   \n",
      "4           NCD19         8.93          Low Fat         0.000000   \n",
      "\n",
      "               Item_Type  Item_MRP Outlet_Identifier  \\\n",
      "0                  Dairy  249.8092            OUT049   \n",
      "1            Soft Drinks   48.2692            OUT018   \n",
      "2                   Meat  141.6180            OUT049   \n",
      "3  Fruits and Vegetables  182.0950            OUT010   \n",
      "4              Household   53.8614            OUT013   \n",
      "\n",
      "   Outlet_Establishment_Year Outlet_Size Outlet_Location_Type  \\\n",
      "0                       1999      Medium               Tier 1   \n",
      "1                       2009      Medium               Tier 3   \n",
      "2                       1999      Medium               Tier 1   \n",
      "3                       1998         NaN               Tier 3   \n",
      "4                       1987        High               Tier 3   \n",
      "\n",
      "         Outlet_Type  Item_Outlet_Sales  Item_Weight2  \n",
      "0  Supermarket Type1          3735.1380          9.30  \n",
      "1  Supermarket Type2           443.4228          5.92  \n",
      "2  Supermarket Type1          2097.2700         17.50  \n",
      "3      Grocery Store           732.3800         19.20  \n",
      "4  Supermarket Type1           994.7052          8.93  \n"
     ]
    },
    {
     "data": {
      "image/png": "[encoded data removed]",
      "text/plain": [
       "<Figure size 432x288 with 1 Axes>"
      ]
     },
     "metadata": {},
     "output_type": "display_data"
    }
   ],
   "source": [
    "# 상품가격별 평균 판매량\n",
    "# 산점도 그리기\n",
    "print(mart.head())\n",
    "plt.scatter(mart['Item_MRP'],mart['Item_Outlet_Sales'])\n",
    "plt.show()"
   ]
  },
  {
   "cell_type": "code",
   "execution_count": 55,
   "metadata": {},
   "outputs": [
    {
     "name": "stdout",
     "output_type": "stream",
     "text": [
      "기울기 [15.55302354]\n",
      "절편 -11.575142825171952\n",
      "훈련 측정값 R^2 [[249.8092]\n",
      " [ 48.2692]\n",
      " [141.618 ]\n",
      " ...\n",
      " [ 85.1224]\n",
      " [103.1332]\n",
      " [ 75.467 ]] 0       3735.1380\n",
      "1        443.4228\n",
      "2       2097.2700\n",
      "3        732.3800\n",
      "4        994.7052\n",
      "5        556.6088\n",
      "6        343.5528\n",
      "7       4022.7636\n",
      "8       1076.5986\n",
      "9       4710.5350\n",
      "10      1516.0266\n",
      "11      2187.1530\n",
      "12      1589.2646\n",
      "13      2145.2076\n",
      "14      1977.4260\n",
      "15      1547.3192\n",
      "16      1621.8888\n",
      "17       718.3982\n",
      "18      2303.6680\n",
      "19      2748.4224\n",
      "20      3775.0860\n",
      "21      4064.0432\n",
      "22      1587.2672\n",
      "23       214.3876\n",
      "24      4078.0250\n",
      "25       838.9080\n",
      "26      1065.2800\n",
      "27       308.9312\n",
      "28       178.4344\n",
      "29       125.8362\n",
      "          ...    \n",
      "8493    4727.1800\n",
      "8494    1637.8680\n",
      "8495    4314.3840\n",
      "8496    3715.1640\n",
      "8497    2247.0750\n",
      "8498    1601.2490\n",
      "8499    2976.1260\n",
      "8500    1907.5170\n",
      "8501    1508.0370\n",
      "8502    3020.0688\n",
      "8503    3392.9168\n",
      "8504    4138.6128\n",
      "8505    2117.2440\n",
      "8506    3944.8650\n",
      "8507     515.9950\n",
      "8508    2587.9646\n",
      "8509     424.7804\n",
      "8510    7182.6504\n",
      "8511    4207.8560\n",
      "8512    2479.4392\n",
      "8513     595.2252\n",
      "8514     468.7232\n",
      "8515    1571.2880\n",
      "8516     858.8820\n",
      "8517    3608.6360\n",
      "8518    2778.3834\n",
      "8519     549.2850\n",
      "8520    1193.1136\n",
      "8521    1845.5976\n",
      "8522     765.6700\n",
      "Name: Item_Outlet_Sales, Length: 8523, dtype: float64\n"
     ]
    }
   ],
   "source": [
    "lr = LinearRegression()\n",
    "X = mart.iloc[:,5][:,np.newaxis] \n",
    "     # 1 차원 데이터를 2차원 행렬로 변환 = >  a = [1,2,3,] => a[:,np.newaxis] => a = [[1],[2],[3]]\n",
    "y = mart.iloc[:,11]  # 배달시간 추출\n",
    "lr.fit(X, y) \n",
    "print('기울기', lr.coef_)  # 가중치 weight\n",
    "print('절편', lr.intercept_)  # 편향 bias\n",
    "print('훈련 측정값 R^2', X, y)"
   ]
  },
  {
   "cell_type": "code",
   "execution_count": 56,
   "metadata": {},
   "outputs": [],
   "source": [
    "# 선형 회귀 모델 생성 2\n",
    "X_train, X_test, y_train, y_test = train_test_split(X,y, random_state = 0)"
   ]
  },
  {
   "cell_type": "code",
   "execution_count": 57,
   "metadata": {},
   "outputs": [
    {
     "name": "stdout",
     "output_type": "stream",
     "text": [
      "기울기 [15.55302354]\n",
      "절편 -11.575142825171952\n",
      "훈련 측정값 R^2 0.32654300469233744\n",
      "검증 측정값 R^2 0.3094224009492086\n"
     ]
    }
   ],
   "source": [
    "print('기울기', lr.coef_)  # 가중치 weight\n",
    "print('절편', lr.intercept_)  # 편향 bias\n",
    "print('훈련 측정값 R^2', lr.score(X_train,y_train))\n",
    "print('검증 측정값 R^2', lr.score(X_test, y_test))"
   ]
  },
  {
   "cell_type": "code",
   "execution_count": 61,
   "metadata": {},
   "outputs": [
    {
     "data": {
      "image/png": "[encoded data removed]",
      "text/plain": [
       "<Figure size 432x288 with 1 Axes>"
      ]
     },
     "metadata": {},
     "output_type": "display_data"
    }
   ],
   "source": [
    "# 선형식 그래프 그리기\n",
    "#  y= ax + b\n",
    "plt.plot(X,y, 'o')\n",
    "x= np.linspace(5,250,100)\n",
    "plt.plot(x, x*lr.coef_ +lr.intercept_)\n",
    "plt.grid()\n",
    "plt.show()"
   ]
  },
  {
   "cell_type": "code",
   "execution_count": 41,
   "metadata": {},
   "outputs": [
    {
     "name": "stdout",
     "output_type": "stream",
     "text": [
      "0       False\n",
      "1       False\n",
      "2       False\n",
      "3        True\n",
      "4       False\n",
      "5       False\n",
      "6       False\n",
      "7       False\n",
      "8        True\n",
      "9        True\n",
      "10      False\n",
      "11      False\n",
      "12      False\n",
      "13      False\n",
      "14      False\n",
      "15      False\n",
      "16      False\n",
      "17      False\n",
      "18      False\n",
      "19      False\n",
      "20      False\n",
      "21      False\n",
      "22      False\n",
      "23      False\n",
      "24      False\n",
      "25       True\n",
      "26      False\n",
      "27      False\n",
      "28       True\n",
      "29      False\n",
      "        ...  \n",
      "8493     True\n",
      "8494     True\n",
      "8495    False\n",
      "8496     True\n",
      "8497    False\n",
      "8498    False\n",
      "8499    False\n",
      "8500     True\n",
      "8501     True\n",
      "8502     True\n",
      "8503    False\n",
      "8504    False\n",
      "8505    False\n",
      "8506    False\n",
      "8507    False\n",
      "8508     True\n",
      "8509     True\n",
      "8510    False\n",
      "8511    False\n",
      "8512    False\n",
      "8513    False\n",
      "8514     True\n",
      "8515    False\n",
      "8516    False\n",
      "8517    False\n",
      "8518    False\n",
      "8519     True\n",
      "8520    False\n",
      "8521    False\n",
      "8522    False\n",
      "Name: Outlet_Size, Length: 8523, dtype: bool\n"
     ]
    }
   ],
   "source": [
    "print(mart['Outlet_Size'].isnull())"
   ]
  },
  {
   "cell_type": "code",
   "execution_count": 47,
   "metadata": {},
   "outputs": [],
   "source": [
    "# pd.to_numeric\n",
    "mapping = {'Small': 1,'Medium' :2,'High': 3}\n",
    "mart['Outlet_Size2'] = mart['Outlet_Size'].map(mapping)\n",
    "mart['Outlet_Size2'] = mart['Outlet_Size2'].fillna(2)"
   ]
  },
  {
   "cell_type": "code",
   "execution_count": 48,
   "metadata": {},
   "outputs": [
    {
     "name": "stdout",
     "output_type": "stream",
     "text": [
      "0       False\n",
      "1       False\n",
      "2       False\n",
      "3       False\n",
      "4       False\n",
      "5       False\n",
      "6       False\n",
      "7       False\n",
      "8       False\n",
      "9       False\n",
      "10      False\n",
      "11      False\n",
      "12      False\n",
      "13      False\n",
      "14      False\n",
      "15      False\n",
      "16      False\n",
      "17      False\n",
      "18      False\n",
      "19      False\n",
      "20      False\n",
      "21      False\n",
      "22      False\n",
      "23      False\n",
      "24      False\n",
      "25      False\n",
      "26      False\n",
      "27      False\n",
      "28      False\n",
      "29      False\n",
      "        ...  \n",
      "8493    False\n",
      "8494    False\n",
      "8495    False\n",
      "8496    False\n",
      "8497    False\n",
      "8498    False\n",
      "8499    False\n",
      "8500    False\n",
      "8501    False\n",
      "8502    False\n",
      "8503    False\n",
      "8504    False\n",
      "8505    False\n",
      "8506    False\n",
      "8507    False\n",
      "8508    False\n",
      "8509    False\n",
      "8510    False\n",
      "8511    False\n",
      "8512    False\n",
      "8513    False\n",
      "8514    False\n",
      "8515    False\n",
      "8516    False\n",
      "8517    False\n",
      "8518    False\n",
      "8519    False\n",
      "8520    False\n",
      "8521    False\n",
      "8522    False\n",
      "Name: Outlet_Size2, Length: 8523, dtype: bool\n"
     ]
    }
   ],
   "source": [
    "print(mart['Outlet_Size2'].isnull())"
   ]
  },
  {
   "cell_type": "code",
   "execution_count": 50,
   "metadata": {},
   "outputs": [
    {
     "name": "stdout",
     "output_type": "stream",
     "text": [
      "  Item_Identifier  Item_Weight Item_Fat_Content  Item_Visibility  \\\n",
      "0           FDA15         9.30          Low Fat         0.016047   \n",
      "1           DRC01         5.92          Regular         0.019278   \n",
      "2           FDN15        17.50          Low Fat         0.016760   \n",
      "3           FDX07        19.20          Regular         0.000000   \n",
      "4           NCD19         8.93          Low Fat         0.000000   \n",
      "\n",
      "               Item_Type  Item_MRP Outlet_Identifier  \\\n",
      "0                  Dairy  249.8092            OUT049   \n",
      "1            Soft Drinks   48.2692            OUT018   \n",
      "2                   Meat  141.6180            OUT049   \n",
      "3  Fruits and Vegetables  182.0950            OUT010   \n",
      "4              Household   53.8614            OUT013   \n",
      "\n",
      "   Outlet_Establishment_Year Outlet_Size Outlet_Location_Type  \\\n",
      "0                       1999      Medium               Tier 1   \n",
      "1                       2009      Medium               Tier 3   \n",
      "2                       1999      Medium               Tier 1   \n",
      "3                       1998         NaN               Tier 3   \n",
      "4                       1987        High               Tier 3   \n",
      "\n",
      "         Outlet_Type  Item_Outlet_Sales  Item_Weight2  Outlet_Size2  \n",
      "0  Supermarket Type1          3735.1380          9.30           2.0  \n",
      "1  Supermarket Type2           443.4228          5.92           2.0  \n",
      "2  Supermarket Type1          2097.2700         17.50           2.0  \n",
      "3      Grocery Store           732.3800         19.20           2.0  \n",
      "4  Supermarket Type1           994.7052          8.93           3.0  \n"
     ]
    },
    {
     "data": {
      "image/png": "[encoded data removed]",
      "text/plain": [
       "<Figure size 432x288 with 1 Axes>"
      ]
     },
     "metadata": {},
     "output_type": "display_data"
    }
   ],
   "source": [
    "# 매장 크기별 평균 판매량\n",
    "# 산점도 그리기\n",
    "print(mart.head())\n",
    "plt.scatter(mart['Outlet_Size2'],mart['Item_Outlet_Sales'])\n",
    "plt.show()"
   ]
  },
  {
   "cell_type": "code",
   "execution_count": 52,
   "metadata": {},
   "outputs": [
    {
     "name": "stdout",
     "output_type": "stream",
     "text": [
      "기울기 [244.98280276]\n",
      "절편 1733.1741775596677\n",
      "훈련 측정값 R^2 [[2.]\n",
      " [2.]\n",
      " [2.]\n",
      " ...\n",
      " [1.]\n",
      " [2.]\n",
      " [1.]] 0       3735.1380\n",
      "1        443.4228\n",
      "2       2097.2700\n",
      "3        732.3800\n",
      "4        994.7052\n",
      "5        556.6088\n",
      "6        343.5528\n",
      "7       4022.7636\n",
      "8       1076.5986\n",
      "9       4710.5350\n",
      "10      1516.0266\n",
      "11      2187.1530\n",
      "12      1589.2646\n",
      "13      2145.2076\n",
      "14      1977.4260\n",
      "15      1547.3192\n",
      "16      1621.8888\n",
      "17       718.3982\n",
      "18      2303.6680\n",
      "19      2748.4224\n",
      "20      3775.0860\n",
      "21      4064.0432\n",
      "22      1587.2672\n",
      "23       214.3876\n",
      "24      4078.0250\n",
      "25       838.9080\n",
      "26      1065.2800\n",
      "27       308.9312\n",
      "28       178.4344\n",
      "29       125.8362\n",
      "          ...    \n",
      "8493    4727.1800\n",
      "8494    1637.8680\n",
      "8495    4314.3840\n",
      "8496    3715.1640\n",
      "8497    2247.0750\n",
      "8498    1601.2490\n",
      "8499    2976.1260\n",
      "8500    1907.5170\n",
      "8501    1508.0370\n",
      "8502    3020.0688\n",
      "8503    3392.9168\n",
      "8504    4138.6128\n",
      "8505    2117.2440\n",
      "8506    3944.8650\n",
      "8507     515.9950\n",
      "8508    2587.9646\n",
      "8509     424.7804\n",
      "8510    7182.6504\n",
      "8511    4207.8560\n",
      "8512    2479.4392\n",
      "8513     595.2252\n",
      "8514     468.7232\n",
      "8515    1571.2880\n",
      "8516     858.8820\n",
      "8517    3608.6360\n",
      "8518    2778.3834\n",
      "8519     549.2850\n",
      "8520    1193.1136\n",
      "8521    1845.5976\n",
      "8522     765.6700\n",
      "Name: Item_Outlet_Sales, Length: 8523, dtype: float64\n"
     ]
    }
   ],
   "source": [
    "lr = LinearRegression()\n",
    "X = mart.iloc[:,13][:,np.newaxis] \n",
    "     # 1 차원 데이터를 2차원 행렬로 변환 = >  a = [1,2,3,] => a[:,np.newaxis] => a = [[1],[2],[3]]\n",
    "y = mart.iloc[:,11]  # 배달시간 추출\n",
    "lr.fit(X, y) \n",
    "print('기울기', lr.coef_)  # 가중치 weight\n",
    "print('절편', lr.intercept_)  # 편향 bias\n",
    "print('훈련 측정값 R^2', X, y)"
   ]
  },
  {
   "cell_type": "code",
   "execution_count": 53,
   "metadata": {},
   "outputs": [
    {
     "data": {
      "image/png": "[encoded data removed]",
      "text/plain": [
       "<Figure size 432x288 with 1 Axes>"
      ]
     },
     "metadata": {},
     "output_type": "display_data"
    }
   ],
   "source": [
    "# 선형식 그래프 그리기\n",
    "#  y= ax + b\n",
    "plt.plot(X,y, 'o')\n",
    "plt.plot(X,X*lr.coef_ +lr.intercept_)\n",
    "plt.grid()\n",
    "plt.show()"
   ]
  },
  {
   "cell_type": "code",
   "execution_count": null,
   "metadata": {},
   "outputs": [],
   "source": [
    "# 지역별 평균 판매량"
   ]
  },
  {
   "cell_type": "code",
   "execution_count": 85,
   "metadata": {},
   "outputs": [
    {
     "name": "stderr",
     "output_type": "stream",
     "text": [
      "C:\\Users\\user\\Anaconda3\\lib\\site-packages\\ipykernel_launcher.py:7: DeprecationWarning: \n",
      ".ix is deprecated. Please use\n",
      ".loc for label based indexing or\n",
      ".iloc for positional indexing\n",
      "\n",
      "See the documentation here:\n",
      "http://pandas.pydata.org/pandas-docs/stable/indexing.html#ix-indexer-is-deprecated\n",
      "  import sys\n",
      "C:\\Users\\user\\Anaconda3\\lib\\site-packages\\ipykernel_launcher.py:8: DeprecationWarning: \n",
      ".ix is deprecated. Please use\n",
      ".loc for label based indexing or\n",
      ".iloc for positional indexing\n",
      "\n",
      "See the documentation here:\n",
      "http://pandas.pydata.org/pandas-docs/stable/indexing.html#ix-indexer-is-deprecated\n",
      "  \n"
     ]
    },
    {
     "ename": "ValueError",
     "evalue": "Found input variables with inconsistent numbers of samples: [4650, 8523]",
     "output_type": "error",
     "traceback": [
      "\u001b[1;31m---------------------------------------------------------------------------\u001b[0m",
      "\u001b[1;31mValueError\u001b[0m                                Traceback (most recent call last)",
      "\u001b[1;32m<ipython-input-85-0fc42b3b85dc>\u001b[0m in \u001b[0;36m<module>\u001b[1;34m()\u001b[0m\n\u001b[0;32m      8\u001b[0m \u001b[0mtarget\u001b[0m \u001b[1;33m=\u001b[0m \u001b[0mmart\u001b[0m\u001b[1;33m.\u001b[0m\u001b[0mix\u001b[0m\u001b[1;33m[\u001b[0m\u001b[1;33m:\u001b[0m\u001b[1;33m,\u001b[0m \u001b[1;34m'Item_Outlet_Sales'\u001b[0m\u001b[1;33m]\u001b[0m\u001b[1;33m\u001b[0m\u001b[0m\n\u001b[0;32m      9\u001b[0m \u001b[1;33m\u001b[0m\u001b[0m\n\u001b[1;32m---> 10\u001b[1;33m \u001b[0mlr\u001b[0m\u001b[1;33m.\u001b[0m\u001b[0mfit\u001b[0m\u001b[1;33m(\u001b[0m\u001b[0mdate6\u001b[0m\u001b[1;33m,\u001b[0m \u001b[0my\u001b[0m\u001b[1;33m)\u001b[0m\u001b[1;33m\u001b[0m\u001b[0m\n\u001b[0m\u001b[0;32m     11\u001b[0m \u001b[0mX_train\u001b[0m\u001b[1;33m,\u001b[0m \u001b[0mX_test\u001b[0m\u001b[1;33m,\u001b[0m \u001b[0my_train\u001b[0m\u001b[1;33m,\u001b[0m \u001b[0my_test\u001b[0m \u001b[1;33m=\u001b[0m \u001b[0mtrain_test_split\u001b[0m\u001b[1;33m(\u001b[0m\u001b[0mdate6\u001b[0m\u001b[1;33m,\u001b[0m\u001b[0mtarget\u001b[0m\u001b[1;33m,\u001b[0m \u001b[0mrandom_state\u001b[0m \u001b[1;33m=\u001b[0m \u001b[1;36m0\u001b[0m\u001b[1;33m)\u001b[0m\u001b[1;33m\u001b[0m\u001b[0m\n\u001b[0;32m     12\u001b[0m \u001b[0mprint\u001b[0m\u001b[1;33m(\u001b[0m\u001b[1;34m'기울기'\u001b[0m\u001b[1;33m,\u001b[0m \u001b[0mlr\u001b[0m\u001b[1;33m.\u001b[0m\u001b[0mcoef_\u001b[0m\u001b[1;33m)\u001b[0m  \u001b[1;31m# 가중치 weight\u001b[0m\u001b[1;33m\u001b[0m\u001b[0m\n",
      "\u001b[1;32m~\\Anaconda3\\lib\\site-packages\\sklearn\\linear_model\\base.py\u001b[0m in \u001b[0;36mfit\u001b[1;34m(self, X, y, sample_weight)\u001b[0m\n\u001b[0;32m    480\u001b[0m         \u001b[0mn_jobs_\u001b[0m \u001b[1;33m=\u001b[0m \u001b[0mself\u001b[0m\u001b[1;33m.\u001b[0m\u001b[0mn_jobs\u001b[0m\u001b[1;33m\u001b[0m\u001b[0m\n\u001b[0;32m    481\u001b[0m         X, y = check_X_y(X, y, accept_sparse=['csr', 'csc', 'coo'],\n\u001b[1;32m--> 482\u001b[1;33m                          y_numeric=True, multi_output=True)\n\u001b[0m\u001b[0;32m    483\u001b[0m \u001b[1;33m\u001b[0m\u001b[0m\n\u001b[0;32m    484\u001b[0m         \u001b[1;32mif\u001b[0m \u001b[0msample_weight\u001b[0m \u001b[1;32mis\u001b[0m \u001b[1;32mnot\u001b[0m \u001b[1;32mNone\u001b[0m \u001b[1;32mand\u001b[0m \u001b[0mnp\u001b[0m\u001b[1;33m.\u001b[0m\u001b[0matleast_1d\u001b[0m\u001b[1;33m(\u001b[0m\u001b[0msample_weight\u001b[0m\u001b[1;33m)\u001b[0m\u001b[1;33m.\u001b[0m\u001b[0mndim\u001b[0m \u001b[1;33m>\u001b[0m \u001b[1;36m1\u001b[0m\u001b[1;33m:\u001b[0m\u001b[1;33m\u001b[0m\u001b[0m\n",
      "\u001b[1;32m~\\Anaconda3\\lib\\site-packages\\sklearn\\utils\\validation.py\u001b[0m in \u001b[0;36mcheck_X_y\u001b[1;34m(X, y, accept_sparse, dtype, order, copy, force_all_finite, ensure_2d, allow_nd, multi_output, ensure_min_samples, ensure_min_features, y_numeric, warn_on_dtype, estimator)\u001b[0m\n\u001b[0;32m    581\u001b[0m         \u001b[0my\u001b[0m \u001b[1;33m=\u001b[0m \u001b[0my\u001b[0m\u001b[1;33m.\u001b[0m\u001b[0mastype\u001b[0m\u001b[1;33m(\u001b[0m\u001b[0mnp\u001b[0m\u001b[1;33m.\u001b[0m\u001b[0mfloat64\u001b[0m\u001b[1;33m)\u001b[0m\u001b[1;33m\u001b[0m\u001b[0m\n\u001b[0;32m    582\u001b[0m \u001b[1;33m\u001b[0m\u001b[0m\n\u001b[1;32m--> 583\u001b[1;33m     \u001b[0mcheck_consistent_length\u001b[0m\u001b[1;33m(\u001b[0m\u001b[0mX\u001b[0m\u001b[1;33m,\u001b[0m \u001b[0my\u001b[0m\u001b[1;33m)\u001b[0m\u001b[1;33m\u001b[0m\u001b[0m\n\u001b[0m\u001b[0;32m    584\u001b[0m \u001b[1;33m\u001b[0m\u001b[0m\n\u001b[0;32m    585\u001b[0m     \u001b[1;32mreturn\u001b[0m \u001b[0mX\u001b[0m\u001b[1;33m,\u001b[0m \u001b[0my\u001b[0m\u001b[1;33m\u001b[0m\u001b[0m\n",
      "\u001b[1;32m~\\Anaconda3\\lib\\site-packages\\sklearn\\utils\\validation.py\u001b[0m in \u001b[0;36mcheck_consistent_length\u001b[1;34m(*arrays)\u001b[0m\n\u001b[0;32m    202\u001b[0m     \u001b[1;32mif\u001b[0m \u001b[0mlen\u001b[0m\u001b[1;33m(\u001b[0m\u001b[0muniques\u001b[0m\u001b[1;33m)\u001b[0m \u001b[1;33m>\u001b[0m \u001b[1;36m1\u001b[0m\u001b[1;33m:\u001b[0m\u001b[1;33m\u001b[0m\u001b[0m\n\u001b[0;32m    203\u001b[0m         raise ValueError(\"Found input variables with inconsistent numbers of\"\n\u001b[1;32m--> 204\u001b[1;33m                          \" samples: %r\" % [int(l) for l in lengths])\n\u001b[0m\u001b[0;32m    205\u001b[0m \u001b[1;33m\u001b[0m\u001b[0m\n\u001b[0;32m    206\u001b[0m \u001b[1;33m\u001b[0m\u001b[0m\n",
      "\u001b[1;31mValueError\u001b[0m: Found input variables with inconsistent numbers of samples: [4650, 8523]"
     ]
    }
   ],
   "source": [
    "# 모든 상품 feature 다\n",
    "mart = mart.dropna()\n",
    "mart['Item_Type'] = pd.Categorical(mart['Item_Type'])\n",
    "mart['Item_Type'] = mart['Item_Type'].cat.codes\n",
    "mart['Item_Fat_Content'] = pd.Categorical(mart['Item_Fat_Content'])\n",
    "mart['Item_Fat_Content'] = mart['Item_Fat_Content'].cat.codes\n",
    "date6 = mart.ix[:, ['Item_Weight', 'Item_Fat_Content', 'Item_Visibility','Item_Type','Item_MRP']]\n",
    "target = mart.ix[:, 'Item_Outlet_Sales'] \n",
    "\n",
    "lr.fit(date6, y)\n",
    "X_train, X_test, y_train, y_test = train_test_split(date6,target, random_state = 0)\n",
    "print('기울기', lr.coef_)  # 가중치 weight\n",
    "print('절편', lr.intercept_)  # 편향 bias\n",
    "print('훈련 측정값 R^2',X_train, y_train)"
   ]
  },
  {
   "cell_type": "code",
   "execution_count": 70,
   "metadata": {},
   "outputs": [
    {
     "ename": "ValueError",
     "evalue": "Found input variables with inconsistent numbers of samples: [4650, 8523]",
     "output_type": "error",
     "traceback": [
      "\u001b[1;31m---------------------------------------------------------------------------\u001b[0m",
      "\u001b[1;31mValueError\u001b[0m                                Traceback (most recent call last)",
      "\u001b[1;32m<ipython-input-70-71828532e54d>\u001b[0m in \u001b[0;36m<module>\u001b[1;34m()\u001b[0m\n\u001b[1;32m----> 1\u001b[1;33m \u001b[0mlr\u001b[0m\u001b[1;33m.\u001b[0m\u001b[0mfit\u001b[0m\u001b[1;33m(\u001b[0m\u001b[0mdate6\u001b[0m\u001b[1;33m,\u001b[0m \u001b[0my\u001b[0m\u001b[1;33m)\u001b[0m\u001b[1;33m\u001b[0m\u001b[0m\n\u001b[0m",
      "\u001b[1;32m~\\Anaconda3\\lib\\site-packages\\sklearn\\linear_model\\base.py\u001b[0m in \u001b[0;36mfit\u001b[1;34m(self, X, y, sample_weight)\u001b[0m\n\u001b[0;32m    480\u001b[0m         \u001b[0mn_jobs_\u001b[0m \u001b[1;33m=\u001b[0m \u001b[0mself\u001b[0m\u001b[1;33m.\u001b[0m\u001b[0mn_jobs\u001b[0m\u001b[1;33m\u001b[0m\u001b[0m\n\u001b[0;32m    481\u001b[0m         X, y = check_X_y(X, y, accept_sparse=['csr', 'csc', 'coo'],\n\u001b[1;32m--> 482\u001b[1;33m                          y_numeric=True, multi_output=True)\n\u001b[0m\u001b[0;32m    483\u001b[0m \u001b[1;33m\u001b[0m\u001b[0m\n\u001b[0;32m    484\u001b[0m         \u001b[1;32mif\u001b[0m \u001b[0msample_weight\u001b[0m \u001b[1;32mis\u001b[0m \u001b[1;32mnot\u001b[0m \u001b[1;32mNone\u001b[0m \u001b[1;32mand\u001b[0m \u001b[0mnp\u001b[0m\u001b[1;33m.\u001b[0m\u001b[0matleast_1d\u001b[0m\u001b[1;33m(\u001b[0m\u001b[0msample_weight\u001b[0m\u001b[1;33m)\u001b[0m\u001b[1;33m.\u001b[0m\u001b[0mndim\u001b[0m \u001b[1;33m>\u001b[0m \u001b[1;36m1\u001b[0m\u001b[1;33m:\u001b[0m\u001b[1;33m\u001b[0m\u001b[0m\n",
      "\u001b[1;32m~\\Anaconda3\\lib\\site-packages\\sklearn\\utils\\validation.py\u001b[0m in \u001b[0;36mcheck_X_y\u001b[1;34m(X, y, accept_sparse, dtype, order, copy, force_all_finite, ensure_2d, allow_nd, multi_output, ensure_min_samples, ensure_min_features, y_numeric, warn_on_dtype, estimator)\u001b[0m\n\u001b[0;32m    581\u001b[0m         \u001b[0my\u001b[0m \u001b[1;33m=\u001b[0m \u001b[0my\u001b[0m\u001b[1;33m.\u001b[0m\u001b[0mastype\u001b[0m\u001b[1;33m(\u001b[0m\u001b[0mnp\u001b[0m\u001b[1;33m.\u001b[0m\u001b[0mfloat64\u001b[0m\u001b[1;33m)\u001b[0m\u001b[1;33m\u001b[0m\u001b[0m\n\u001b[0;32m    582\u001b[0m \u001b[1;33m\u001b[0m\u001b[0m\n\u001b[1;32m--> 583\u001b[1;33m     \u001b[0mcheck_consistent_length\u001b[0m\u001b[1;33m(\u001b[0m\u001b[0mX\u001b[0m\u001b[1;33m,\u001b[0m \u001b[0my\u001b[0m\u001b[1;33m)\u001b[0m\u001b[1;33m\u001b[0m\u001b[0m\n\u001b[0m\u001b[0;32m    584\u001b[0m \u001b[1;33m\u001b[0m\u001b[0m\n\u001b[0;32m    585\u001b[0m     \u001b[1;32mreturn\u001b[0m \u001b[0mX\u001b[0m\u001b[1;33m,\u001b[0m \u001b[0my\u001b[0m\u001b[1;33m\u001b[0m\u001b[0m\n",
      "\u001b[1;32m~\\Anaconda3\\lib\\site-packages\\sklearn\\utils\\validation.py\u001b[0m in \u001b[0;36mcheck_consistent_length\u001b[1;34m(*arrays)\u001b[0m\n\u001b[0;32m    202\u001b[0m     \u001b[1;32mif\u001b[0m \u001b[0mlen\u001b[0m\u001b[1;33m(\u001b[0m\u001b[0muniques\u001b[0m\u001b[1;33m)\u001b[0m \u001b[1;33m>\u001b[0m \u001b[1;36m1\u001b[0m\u001b[1;33m:\u001b[0m\u001b[1;33m\u001b[0m\u001b[0m\n\u001b[0;32m    203\u001b[0m         raise ValueError(\"Found input variables with inconsistent numbers of\"\n\u001b[1;32m--> 204\u001b[1;33m                          \" samples: %r\" % [int(l) for l in lengths])\n\u001b[0m\u001b[0;32m    205\u001b[0m \u001b[1;33m\u001b[0m\u001b[0m\n\u001b[0;32m    206\u001b[0m \u001b[1;33m\u001b[0m\u001b[0m\n",
      "\u001b[1;31mValueError\u001b[0m: Found input variables with inconsistent numbers of samples: [4650, 8523]"
     ]
    }
   ],
   "source": [
    "\n",
    "X_train, X_test, y_train, y_test = train_test_split(X,y, random_state = 0)\n"
   ]
  },
  {
   "cell_type": "code",
   "execution_count": 64,
   "metadata": {},
   "outputs": [
    {
     "ename": "ValueError",
     "evalue": "Length of passed values is 1, index implies 5",
     "output_type": "error",
     "traceback": [
      "\u001b[1;31m---------------------------------------------------------------------------\u001b[0m",
      "\u001b[1;31mValueError\u001b[0m                                Traceback (most recent call last)",
      "\u001b[1;32m<ipython-input-64-712705843529>\u001b[0m in \u001b[0;36m<module>\u001b[1;34m()\u001b[0m\n\u001b[0;32m      1\u001b[0m \u001b[1;31m# 각 특성이 회귀분석 영향을 미치는 정도\u001b[0m\u001b[1;33m\u001b[0m\u001b[1;33m\u001b[0m\u001b[0m\n\u001b[0;32m      2\u001b[0m \u001b[0mcol\u001b[0m \u001b[1;33m=\u001b[0m \u001b[1;33m[\u001b[0m\u001b[1;34m'Item_Weight'\u001b[0m\u001b[1;33m,\u001b[0m \u001b[1;34m'Item_Fat_Content'\u001b[0m\u001b[1;33m,\u001b[0m\u001b[1;34m'Item_Visibility'\u001b[0m\u001b[1;33m,\u001b[0m\u001b[1;34m'Item_Type'\u001b[0m\u001b[1;33m,\u001b[0m\u001b[1;34m'Item_MRP'\u001b[0m\u001b[1;33m]\u001b[0m\u001b[1;33m\u001b[0m\u001b[0m\n\u001b[1;32m----> 3\u001b[1;33m \u001b[0mcoef\u001b[0m \u001b[1;33m=\u001b[0m \u001b[0mpd\u001b[0m\u001b[1;33m.\u001b[0m\u001b[0mSeries\u001b[0m\u001b[1;33m(\u001b[0m\u001b[0mlr\u001b[0m\u001b[1;33m.\u001b[0m\u001b[0mcoef_\u001b[0m\u001b[1;33m,\u001b[0m \u001b[0mcol\u001b[0m\u001b[1;33m)\u001b[0m\u001b[1;33m.\u001b[0m\u001b[0msort_values\u001b[0m\u001b[1;33m(\u001b[0m\u001b[1;33m)\u001b[0m\u001b[1;33m\u001b[0m\u001b[0m\n\u001b[0m\u001b[0;32m      4\u001b[0m \u001b[0mcoef\u001b[0m\u001b[1;33m.\u001b[0m\u001b[0mplot\u001b[0m\u001b[1;33m(\u001b[0m\u001b[0mkind\u001b[0m \u001b[1;33m=\u001b[0m \u001b[1;34m'bar'\u001b[0m\u001b[1;33m)\u001b[0m\u001b[1;33m\u001b[0m\u001b[0m\n\u001b[0;32m      5\u001b[0m \u001b[0mplt\u001b[0m\u001b[1;33m.\u001b[0m\u001b[0mshow\u001b[0m\u001b[1;33m(\u001b[0m\u001b[1;33m)\u001b[0m\u001b[1;33m\u001b[0m\u001b[0m\n",
      "\u001b[1;32m~\\Anaconda3\\lib\\site-packages\\pandas\\core\\series.py\u001b[0m in \u001b[0;36m__init__\u001b[1;34m(self, data, index, dtype, name, copy, fastpath)\u001b[0m\n\u001b[0;32m    259\u001b[0m                             \u001b[1;34m'Length of passed values is {val}, '\u001b[0m\u001b[1;33m\u001b[0m\u001b[0m\n\u001b[0;32m    260\u001b[0m                             \u001b[1;34m'index implies {ind}'\u001b[0m\u001b[1;33m\u001b[0m\u001b[0m\n\u001b[1;32m--> 261\u001b[1;33m                             .format(val=len(data), ind=len(index)))\n\u001b[0m\u001b[0;32m    262\u001b[0m                 \u001b[1;32mexcept\u001b[0m \u001b[0mTypeError\u001b[0m\u001b[1;33m:\u001b[0m\u001b[1;33m\u001b[0m\u001b[0m\n\u001b[0;32m    263\u001b[0m                     \u001b[1;32mpass\u001b[0m\u001b[1;33m\u001b[0m\u001b[0m\n",
      "\u001b[1;31mValueError\u001b[0m: Length of passed values is 1, index implies 5"
     ]
    }
   ],
   "source": [
    "# 각 특성이 회귀분석 영향을 미치는 정도\n",
    "col = ['Item_Weight', 'Item_Fat_Content','Item_Visibility','Item_Type','Item_MRP']\n",
    "coef = pd.Series(lr.coef_, col).sort_values()\n",
    "coef.plot(kind = 'bar')\n",
    "plt.show()"
   ]
  },
  {
   "cell_type": "code",
   "execution_count": null,
   "metadata": {},
   "outputs": [],
   "source": [
    "# 편향 bias vs 분산 variance\n",
    "# 편향 : 학습 알고리즘에서 발생되는 오차의 정도\n",
    "# 적당히 낮은 편향 - 과적합\n",
    "# 너무 높은 편향 - 미적합\n",
    "\n",
    "# 분산 : 데이터셋에 포함된 변동성 여부\n",
    "# 적당히 낮은 분산 - 노이즈 noise가 적음\n",
    "# 너무 높은 분산 - 노이즈가 많음\n",
    "\n",
    "# 학습 알고리즘 상에서 기대 오차를 분석하는 한가지 방법으로 \n",
    "# 편향. 분산을 내제하고 있는 데이터는 어떤 모델링으러 줄일 수 없는 오류의 총합으로\n",
    "# 여김\n",
    "# 따라서, 편향, 분산의 trade-off를 이해해서 적절한 학습의 효과가 나도록 데이터 셋의 특성을 잘 조합해야 함\n",
    "\n"
   ]
  },
  {
   "cell_type": "code",
   "execution_count": null,
   "metadata": {},
   "outputs": [],
   "source": [
    "# 일반적인 회귀분석 : 회귀계수(절편, 기울기) 추정량 구함\n",
    "# 잔차의 제곱합을 최소로 하는 최소제곱법 사욫\n",
    "\n",
    "# 실제 회귀모델은 단일 변수가 아닌 다중 변수가 많음\n",
    "# 설명변수 증가 => 변수간 강한 상관관계 => 다중공선성 문제\n",
    "# 최소제곱법을 이용한 회귀계수 추정량 커짐 = > 정확도 저하\n",
    "\n",
    "# 따라서, 중요한 변수를 선정하고, 중요하지 않은 변수는 제외\n",
    "\n",
    "# 리지, 라쏘 회귀\n",
    "# 라쏘 회귀(L1 -norm 패널티)\n",
    "# 원래의 최소제곱법에 제약을 가함\n",
    "# 중요하지 않은 변수들을\n",
    "\n",
    "# 리지 회귀(L1 -norm 패널티)\n",
    "\n",
    "# 엘라스틱넷 회귀\n"
   ]
  },
  {
   "cell_type": "code",
   "execution_count": 76,
   "metadata": {},
   "outputs": [],
   "source": [
    "# 리지 회귀\n",
    "from sklearn.linear_model import Ridge, Lasso"
   ]
  },
  {
   "cell_type": "code",
   "execution_count": null,
   "metadata": {},
   "outputs": [],
   "source": [
    "X_train, X_test, y_train, y_test = train_test_split(data6,y, random_state = 0)"
   ]
  },
  {
   "cell_type": "code",
   "execution_count": null,
   "metadata": {},
   "outputs": [],
   "source": [
    "lrR = Ridge()\n",
    "lrR.fit(X_train, y_train)"
   ]
  },
  {
   "cell_type": "code",
   "execution_count": null,
   "metadata": {},
   "outputs": [],
   "source": [
    "print('릿지 훈련 정확도', lrR.score(X_train, y_train))\n",
    "print('릿지 검증 정확도', lrR.score(X_test, y_test) )"
   ]
  },
  {
   "cell_type": "code",
   "execution_count": null,
   "metadata": {},
   "outputs": [],
   "source": [
    "# alpha = 0.1\n",
    "lrR = Ridge(alpha = 0.1)\n",
    "lrR.fit(X_train, y_train)\n",
    "print('릿지 훈련 정확도', lrR.score(X_train, y_train))\n",
    "print('릿지 검증 정확도', lrR.score(X_test, y_test) )\n",
    "print('사용한 특성수', np.sum(lrR.coef_!=0))"
   ]
  },
  {
   "cell_type": "code",
   "execution_count": null,
   "metadata": {},
   "outputs": [],
   "source": [
    "# alpha = 0.01\n",
    "lrR = Ridge(alpha = 0.01)\n",
    "lrR.fit(X_train, y_train)\n",
    "print('릿지 훈련 정확도', lrR.score(X_train, y_train))\n",
    "print('릿지 검증 정확도', lrR.score(X_test, y_test) )"
   ]
  },
  {
   "cell_type": "code",
   "execution_count": null,
   "metadata": {},
   "outputs": [],
   "source": []
  },
  {
   "cell_type": "code",
   "execution_count": null,
   "metadata": {},
   "outputs": [],
   "source": []
  }
 ],
 "metadata": {
  "kernelspec": {
   "display_name": "Python 3",
   "language": "python",
   "name": "python3"
  },
  "language_info": {
   "codemirror_mode": {
    "name": "ipython",
    "version": 3
   },
   "file_extension": ".py",
   "mimetype": "text/x-python",
   "name": "python",
   "nbconvert_exporter": "python",
   "pygments_lexer": "ipython3",
   "version": "3.6.5"
  }
 },
 "nbformat": 4,
 "nbformat_minor": 2
}
